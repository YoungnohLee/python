{
 "cells": [
  {
   "attachments": {},
   "cell_type": "markdown",
   "metadata": {},
   "source": [
    "# 객체 속성 및 메소드"
   ]
  },
  {
   "attachments": {},
   "cell_type": "markdown",
   "metadata": {},
   "source": [
    "### 1. `__init__.py`\n",
    "\n",
    "`__init__.py` : 해당 경로가 모듈의 일부임을 알려주는 역할 (파이썬 3.3 이후부터 없어도 호환됨)"
   ]
  },
  {
   "attachments": {},
   "cell_type": "markdown",
   "metadata": {},
   "source": [
    "### 2. `__name__`\n",
    "\n",
    "`__name__` : 모듈이 저장되는 변수\n",
    "\n",
    "- mypy.py를 직접 실행하면 그 파일의 `name`은 `main`\n",
    "\n",
    "- import로 모듈을 불러오면 `name`은 `mypy`\n",
    "\n",
    "mypy의 my_Class_add 가 import로 불러올 때는 실행되지 않고, py파일을 직접 실행했을 때에만 실행되도록 설정하고 싶다면 `if __name__ == '__main__':` 을 추가하면 된다. 그 결과 import 로 사용하고자 할 때에는 my_Class_add 가 실행되지 않게 된다.\n",
    "\n",
    "사후적으로 `__name__`을 살펴봄으로서 이 py파일이 직접 실행된 파일인지, import되어 불려온 파일인지 알 수 있음.\n",
    "\n"
   ]
  },
  {
   "attachments": {},
   "cell_type": "markdown",
   "metadata": {},
   "source": [
    "1. 상대경로를 이용하여 import 하게 되면 현재 모듈의 이름(`__name__`)값으로 현재 모듈의 위치를 파악함.\n",
    "\n",
    "2. 만약 `__main__`으로 설정 될 경우(주 스크립트 파일로 직접 실행 할 경우) 패키지의 구조가 실제 파일 시스템에 있는 위치에 관계없이 최상위 모듈인 것처럼 된다.\n",
    "\n",
    "3. `main.py`는 `mypy.py`가 있는 `practice`패키지와 구분되게 된다.\n",
    "\n",
    "4. 그러므로 상대경로로 실행을 시키면 내(`main.py`)가 제일 최상위 모듈이라는 의미로 \"알려진 상위 패키지 없이 상대 가져오기를 시도했습니다\"라는 에러로그를 띄우는 것이다.\n"
   ]
  }
 ],
 "metadata": {
  "language_info": {
   "name": "python"
  },
  "orig_nbformat": 4
 },
 "nbformat": 4,
 "nbformat_minor": 2
}
