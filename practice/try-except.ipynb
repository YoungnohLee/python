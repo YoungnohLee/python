{
 "cells": [
  {
   "cell_type": "code",
   "execution_count": 3,
   "metadata": {},
   "outputs": [],
   "source": [
    "def ten_div(x):\n",
    "    return 10/x"
   ]
  },
  {
   "cell_type": "code",
   "execution_count": 4,
   "metadata": {},
   "outputs": [
    {
     "data": {
      "text/plain": [
       "5.0"
      ]
     },
     "execution_count": 4,
     "metadata": {},
     "output_type": "execute_result"
    }
   ],
   "source": [
    "ten_div(2)"
   ]
  },
  {
   "cell_type": "code",
   "execution_count": 6,
   "metadata": {},
   "outputs": [],
   "source": [
    "# ten_div(0) \n",
    "# ZeroDivisionError: division by zero"
   ]
  },
  {
   "attachments": {},
   "cell_type": "markdown",
   "metadata": {},
   "source": [
    "### Try-except 로 예외가 발생했을때도 정상작동 하도록 강제한다."
   ]
  },
  {
   "cell_type": "code",
   "execution_count": 7,
   "metadata": {},
   "outputs": [
    {
     "name": "stdout",
     "output_type": "stream",
     "text": [
      "예외가 발생했습니다. 0으로 나눈것은 아닌가요?\n"
     ]
    }
   ],
   "source": [
    "try: \n",
    "    x = int(input('나눌 숫자를 입력하세요 : '))\n",
    "    y = 10 / x\n",
    "    print(y)\n",
    "except : # 예외가 발생했을때 실행함\n",
    "    print(\"예외가 발생했습니다. 0으로 나눈것은 아닌가요?\")"
   ]
  },
  {
   "cell_type": "code",
   "execution_count": 14,
   "metadata": {},
   "outputs": [
    {
     "name": "stdout",
     "output_type": "stream",
     "text": [
      "잘못된 인덱스 입니다.\n"
     ]
    }
   ],
   "source": [
    "y = [10,20,30]\n",
    "\n",
    "try: \n",
    "    index, x = map(int, input(\"인덱스와 나눌 숫자를 입력하세요 : \").split())\n",
    "    print(y[index]/x)\n",
    "except ZeroDivisionError: #숫자를 0으로 나눠서 에러가 발생했을 때 실행됨\n",
    "    print(\"숫자를 0으로 나눌수 없습니다.\")\n",
    "except IndexError: # 범위를 벗어난 인덱스에 접근하여 에러가 발생했을때\n",
    "    print('잘못된 인덱스 입니다.')"
   ]
  },
  {
   "attachments": {},
   "cell_type": "markdown",
   "metadata": {},
   "source": [
    "### map 함수\n",
    "\n",
    "`map(function, iterable)`"
   ]
  },
  {
   "cell_type": "code",
   "execution_count": 17,
   "metadata": {},
   "outputs": [
    {
     "name": "stdout",
     "output_type": "stream",
     "text": [
      "map func result : [100, 200, 300, 400, 500]\n"
     ]
    }
   ],
   "source": [
    "myList = [1,2,3,4,5]\n",
    "\n",
    "def mult_hund(n):\n",
    "    return n*100\n",
    "\n",
    "result = list(map(mult_hund, myList))\n",
    "print(f\"map func result : {result}\")\n"
   ]
  }
 ],
 "metadata": {
  "kernelspec": {
   "display_name": "Python 3",
   "language": "python",
   "name": "python3"
  },
  "language_info": {
   "codemirror_mode": {
    "name": "ipython",
    "version": 3
   },
   "file_extension": ".py",
   "mimetype": "text/x-python",
   "name": "python",
   "nbconvert_exporter": "python",
   "pygments_lexer": "ipython3",
   "version": "3.10.11"
  },
  "orig_nbformat": 4
 },
 "nbformat": 4,
 "nbformat_minor": 2
}
