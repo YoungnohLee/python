{
 "cells": [
  {
   "attachments": {},
   "cell_type": "markdown",
   "metadata": {},
   "source": [
    "# Input data Normalization (이미지 정규화)\n",
    "\n",
    "이미지 정규화 하는 이유 : 안했을때와 비교"
   ]
  }
 ],
 "metadata": {
  "language_info": {
   "name": "python"
  },
  "orig_nbformat": 4
 },
 "nbformat": 4,
 "nbformat_minor": 2
}
