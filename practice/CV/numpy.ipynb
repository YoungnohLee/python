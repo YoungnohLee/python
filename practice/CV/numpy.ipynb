{
 "cells": [
  {
   "attachments": {},
   "cell_type": "markdown",
   "metadata": {},
   "source": [
    "# 1 Assignment"
   ]
  },
  {
   "attachments": {},
   "cell_type": "markdown",
   "metadata": {},
   "source": [
    "### 1.1 Array"
   ]
  },
  {
   "cell_type": "code",
   "execution_count": 6,
   "metadata": {},
   "outputs": [
    {
     "name": "stdout",
     "output_type": "stream",
     "text": [
      "<class 'numpy.ndarray'>\n",
      "(3,)\n",
      "1 2 3\n",
      "[5 2 3]\n",
      "(2, 3)\n",
      "1 2 3\n"
     ]
    }
   ],
   "source": [
    "import numpy as np\n",
    "\n",
    "a = np.array([1,2,3]) \n",
    "print(type(a))\n",
    "print(a.shape)\n",
    "print(a[0], a[1], a[2])\n",
    "a[0]=5\n",
    "print(a)\n",
    "\n",
    "b = np.array([[1,2,3],[4,5,6]])\n",
    "print(b.shape)\n",
    "print(b[0,0],b[0,1],b[0,2])"
   ]
  },
  {
   "cell_type": "code",
   "execution_count": 9,
   "metadata": {},
   "outputs": [
    {
     "name": "stdout",
     "output_type": "stream",
     "text": [
      "[[0. 0.]\n",
      " [0. 0.]]\n",
      "\n",
      "\n",
      "[[1. 1.]]\n",
      "\n",
      "\n",
      "[[7 7]\n",
      " [7 7]]\n",
      "\n",
      "\n",
      "[[1. 0.]\n",
      " [0. 1.]]\n",
      "\n",
      "\n",
      "[[0.86236926 0.06023203]\n",
      " [0.54088825 0.58240197]]\n"
     ]
    }
   ],
   "source": [
    "import numpy as np\n",
    "\n",
    "# various ways to make some array\n",
    "\n",
    "a = np.zeros((2,2)) # input shpae\n",
    "print(a)\n",
    "print('\\n')\n",
    "\n",
    "b = np.ones((1,2))\n",
    "print(b)\n",
    "print('\\n')\n",
    "\n",
    "c= np.full((2,2),7) # np.full(tupe of shape, constant)\n",
    "print(c)\n",
    "print('\\n')\n",
    "\n",
    "d = np.eye(2) # identity matrix 2x2\n",
    "print(d)\n",
    "print('\\n')\n",
    "\n",
    "e = np.random.random((2,2))\n",
    "print(e)"
   ]
  },
  {
   "attachments": {},
   "cell_type": "markdown",
   "metadata": {},
   "source": [
    "### Problem 1.1"
   ]
  },
  {
   "cell_type": "code",
   "execution_count": 10,
   "metadata": {},
   "outputs": [
    {
     "name": "stdout",
     "output_type": "stream",
     "text": [
      "(4, 4)\n",
      "[[ 9 13  5  2]\n",
      " [ 1 11  7  6]\n",
      " [ 3  7  4  1]\n",
      " [ 6  9  7 10]]\n",
      "768.0000000000001\n"
     ]
    }
   ],
   "source": [
    "prob = np.array([[9,13,5,2],[1,11,7,6],[3,7,4,1],[6,0,7,10]])\n",
    "print(prob.shape)\n",
    "prob[(3,1)] = 9\n",
    "print(prob)\n",
    "det = np.linalg.det(prob)\n",
    "print(det)\n"
   ]
  },
  {
   "attachments": {},
   "cell_type": "markdown",
   "metadata": {},
   "source": [
    "### 1.2 Array Indexing\n",
    "\n",
    "- Directly Indexing : not a matrix, vector\n",
    "\n",
    "- Slicing : matrix"
   ]
  },
  {
   "cell_type": "code",
   "execution_count": 13,
   "metadata": {},
   "outputs": [
    {
     "name": "stdout",
     "output_type": "stream",
     "text": [
      "[5 6 7 8] (4,)\n",
      "[[5 6 7 8]] (1, 4)\n",
      "[ 2  6 10] (3,)\n",
      "[[ 2]\n",
      " [ 6]\n",
      " [10]] (3, 1)\n"
     ]
    }
   ],
   "source": [
    "import numpy as np\n",
    "\n",
    "a = np.array([[1,2,3,4],[5,6,7,8],[9,10,11,12]])\n",
    "\n",
    "row_r1 = a[1,:] # directly indexing : not a matrix \n",
    "row_r2 = a[1:2,:] # slicing : matrix\n",
    "print(row_r1,row_r1.shape)\n",
    "print(row_r2,row_r2.shape)\n",
    "\n",
    "# you can see the difference\n",
    "\n",
    "# we can make the same distinction when accessing columns of an array:\n",
    "\n",
    "col_r1 = a[:,1]\n",
    "col_r2 = a[:,1:2]\n",
    "print(col_r1, col_r1.shape)\n",
    "print(col_r2, col_r2.shape)"
   ]
  },
  {
   "attachments": {},
   "cell_type": "markdown",
   "metadata": {},
   "source": [
    "### 1.3 Simple Operation"
   ]
  },
  {
   "cell_type": "code",
   "execution_count": 17,
   "metadata": {},
   "outputs": [
    {
     "name": "stdout",
     "output_type": "stream",
     "text": [
      "[[ 6.  8.]\n",
      " [10. 12.]]\n",
      "[[ 6.  8.]\n",
      " [10. 12.]]\n",
      "[[-4. -4.]\n",
      " [-4. -4.]]\n",
      "[[-4. -4.]\n",
      " [-4. -4.]]\n",
      "-------------\n",
      "[[ 5. 12.]\n",
      " [21. 32.]]\n",
      "[[ 5. 12.]\n",
      " [21. 32.]]\n",
      "[[0.2        0.33333333]\n",
      " [0.42857143 0.5       ]]\n",
      "[[0.2        0.33333333]\n",
      " [0.42857143 0.5       ]]\n",
      "[[1.         1.41421356]\n",
      " [1.73205081 2.        ]]\n"
     ]
    }
   ],
   "source": [
    "# element-wise operation\n",
    "# all of the operations are 'element-wise'\n",
    "import numpy as np\n",
    "\n",
    "x = np.array([[1,2],[3,4]], dtype = np.float64) # dtype : 안에 있는 숫자의 형식\n",
    "y = np.array([[5,6],[7,8]], dtype = np.float64)\n",
    "\n",
    "# addition\n",
    "print(x+y)\n",
    "print(np.add(x,y))\n",
    "\n",
    "# subtraction\n",
    "print(x-y)\n",
    "print(np.subtract(x,y))\n",
    "\n",
    "print(\"-------------\")\n",
    "# multiplication (element-wise)\n",
    "print(x*y)\n",
    "print(np.multiply(x,y))\n",
    "\n",
    "# division\n",
    "print(x/y)\n",
    "print(np.divide(x,y))\n",
    "\n",
    "# sqrt\n",
    "print(np.sqrt(x))"
   ]
  },
  {
   "attachments": {},
   "cell_type": "markdown",
   "metadata": {},
   "source": [
    "### problem 2"
   ]
  },
  {
   "cell_type": "code",
   "execution_count": 19,
   "metadata": {},
   "outputs": [
    {
     "name": "stdout",
     "output_type": "stream",
     "text": [
      "[[ 6.  8.]\n",
      " [10. 12.]]\n",
      "[[ 6.  8.]\n",
      " [10. 12.]]\n",
      "[[-4. -4.]\n",
      " [-4. -4.]]\n",
      "[[-4. -4.]\n",
      " [-4. -4.]]\n",
      "[[ 5. 12.]\n",
      " [21. 32.]]\n",
      "[[ 5. 12.]\n",
      " [21. 32.]]\n",
      "[[0.2        0.33333333]\n",
      " [0.42857143 0.5       ]]\n",
      "[[0.2        0.33333333]\n",
      " [0.42857143 0.5       ]]\n",
      "[[1.         1.41421356]\n",
      " [1.73205081 2.        ]]\n"
     ]
    }
   ],
   "source": [
    "import numpy as np\n",
    "\n",
    "a = np.array([[1,0,-1],[2,2,-3],[3,4,0]])\n",
    "b = np.array([[3,4,-1],[1,-3,0],[-1,1,2]])\n",
    "\n",
    "# addition\n",
    "print(x+y)\n",
    "print(np.add(x,y))\n",
    "\n",
    "# subtraction\n",
    "print(x-y)\n",
    "print(np.subtract(x,y))\n",
    "\n",
    "# multiplication\n",
    "print(x*y)\n",
    "print(np.multiply(x,y))\n",
    "\n",
    "# division\n",
    "print(x/y)\n",
    "print(np.divide(x,y))\n",
    "\n",
    "# sqrt\n",
    "print(np.sqrt(x))"
   ]
  },
  {
   "attachments": {},
   "cell_type": "markdown",
   "metadata": {},
   "source": [
    "### 1.3.2 Changing Shape"
   ]
  },
  {
   "cell_type": "code",
   "execution_count": 30,
   "metadata": {},
   "outputs": [
    {
     "name": "stdout",
     "output_type": "stream",
     "text": [
      "[ 0  1  2  3  4  5  6  7  8  9 10 11 12 13 14 15 16 17 18 19 20 21 22 23]\n",
      "(24,)\n",
      "\n",
      "\n",
      "[[[ 0  1]\n",
      "  [ 2  3]\n",
      "  [ 4  5]]\n",
      "\n",
      " [[ 6  7]\n",
      "  [ 8  9]\n",
      "  [10 11]]\n",
      "\n",
      " [[12 13]\n",
      "  [14 15]\n",
      "  [16 17]]\n",
      "\n",
      " [[18 19]\n",
      "  [20 21]\n",
      "  [22 23]]]\n",
      "(4, 3, 2)\n",
      "\n",
      "\n",
      "[1, 4, 3, 2]\n",
      "--------------------\n",
      "[[[[ 0  1]\n",
      "   [ 2  3]\n",
      "   [ 4  5]]\n",
      "\n",
      "  [[ 6  7]\n",
      "   [ 8  9]\n",
      "   [10 11]]\n",
      "\n",
      "  [[12 13]\n",
      "   [14 15]\n",
      "   [16 17]]\n",
      "\n",
      "  [[18 19]\n",
      "   [20 21]\n",
      "   [22 23]]]]\n",
      "(1, 4, 3, 2)\n",
      "\n",
      "\n",
      "[[[[ 0  1]\n",
      "   [ 2  3]\n",
      "   [ 4  5]]\n",
      "\n",
      "  [[ 6  7]\n",
      "   [ 8  9]\n",
      "   [10 11]]\n",
      "\n",
      "  [[12 13]\n",
      "   [14 15]\n",
      "   [16 17]]\n",
      "\n",
      "  [[18 19]\n",
      "   [20 21]\n",
      "   [22 23]]]]\n",
      "(1, 4, 3, 2)\n"
     ]
    }
   ],
   "source": [
    "# 2 Handling the size of matrix\n",
    "import numpy as np\n",
    "\n",
    "a = np.arange(24) # np.arange : return evenly spaced values withina given interval\n",
    "print(a)\n",
    "print(a.shape)\n",
    "print(\"\\n\")\n",
    "\n",
    "# np.reshape\n",
    "# we can use np.reshape() or array.reshape() _ array class also has method reshape\n",
    "a = a.reshape(4,3,2)\n",
    "print(a)\n",
    "print(a.shape)\n",
    "print('\\n')\n",
    "\n",
    "# if i want to add the 1-dimension in front of all size:\n",
    "asdf=[1]+[4,3,2]\n",
    "print(asdf)\n",
    "a = a.reshape((1,) + a.shape)\n",
    "# or if we know the obvious size:\n",
    "a = a.reshape(1,4,3,2)\n",
    "\n",
    "print(\"--------------------\")\n",
    "# np.expand_dims : literally expand the dimension\n",
    "a = np.arange(24).reshape(4,3,2)\n",
    "a = np.expand_dims(a, axis=0)\n",
    "print(a)\n",
    "print(a.shape) # (1,4,3,2)\n",
    "print(\"\\n\")\n",
    "\n",
    "# np.new_axis\n",
    "# axis=0 means expand numpy array within first axis \n",
    "# when expanding (4,3,2) there exists 4 space. we call this 'axis'\n",
    "a = np.arange(24).reshape(4,3,2)\n",
    "a = a[np.newaxis,:] # same with np.expand_dims \n",
    "print(a)\n",
    "print(a.shape)"
   ]
  },
  {
   "cell_type": "code",
   "execution_count": 37,
   "metadata": {},
   "outputs": [
    {
     "name": "stdout",
     "output_type": "stream",
     "text": [
      "(4, 3, 1, 2)\n",
      "(4, 3, 1, 2)\n"
     ]
    }
   ],
   "source": [
    "#You can see something different if axis is changed -> axis=1\n",
    "\n",
    "a = np.arange(24).reshape(4,3,2)\n",
    "a=np.expand_dims(a, axis=2)\n",
    "print(a.shape)\n",
    "\n",
    "a = np.arange(24).reshape(4,3,2)\n",
    "a=a[:,:,np.newaxis]\n",
    "print(a.shape)\n",
    "\n",
    "#How about np.expand_dims(a, axis=3) ?\n",
    "#We can solve many problems with size! Please understand them very clearly :)"
   ]
  },
  {
   "attachments": {},
   "cell_type": "markdown",
   "metadata": {},
   "source": [
    "### 1.3.3 Max & Min"
   ]
  },
  {
   "cell_type": "code",
   "execution_count": 47,
   "metadata": {},
   "outputs": [
    {
     "name": "stdout",
     "output_type": "stream",
     "text": [
      "9\n",
      "[7 8 9]\n",
      "[3 6 9]\n",
      "[[3]\n",
      " [6]\n",
      " [9]]\n",
      "[[6 4 5]\n",
      " [2 2 2]]\n"
     ]
    }
   ],
   "source": [
    "# 3 max / min\n",
    "import numpy as np\n",
    "\n",
    "matrix = np.array([[1,2,3],[4,5,6],[7,8,9]])\n",
    "\n",
    "# maxima\n",
    "print(np.max(matrix)) # 9\n",
    "\n",
    "# axis 0 = row-wise (x축)\n",
    "# axis 1 = column-wise (y축)\n",
    "# you can see the difference by checking the output\n",
    "print(np.max(matrix, axis=0))\n",
    "print(np.max(matrix, axis=1)) \n",
    "# 주의 : axis-0 : y축 기준으로 maximum 을 pull out 한다.\n",
    "\n",
    "# rank is not changed if you use the variable : keepdims = True/ Default is False\n",
    "print(np.max(matrix, axis=1, keepdims=True))\n",
    "\n",
    "# np.maximum vs np.max\n",
    "# np.max is used for only one single array\n",
    "# np.maximum is used for many arrays and it compares the numbers on each location\n",
    "a=np.array([[1,3,5],[1,1,1]])\n",
    "b=np.array([[6,4,2],[2,2,2]])\n",
    "print(np.maximum(a,b))\n",
    "# 결론 : element-wise maximum comparison"
   ]
  },
  {
   "attachments": {},
   "cell_type": "markdown",
   "metadata": {},
   "source": [
    "### Problem 3"
   ]
  },
  {
   "cell_type": "code",
   "execution_count": 51,
   "metadata": {},
   "outputs": [
    {
     "name": "stdout",
     "output_type": "stream",
     "text": [
      "[-0.68007693  0.36867753 -0.315524   -2.74639046]\n",
      "[[-0.26075258]\n",
      " [-1.1964955 ]\n",
      " [-1.07525178]\n",
      " [-2.86190394]]\n",
      "[[-0.68007693 -0.10936951 -0.315524   -2.74639046]\n",
      " [-0.44650626  0.47433298  0.76093931 -1.1964955 ]\n",
      " [-1.07525178  0.36867753  1.7343725  -0.45276184]\n",
      " [-0.00905528 -2.20954958  0.62780722 -2.86190394]]\n"
     ]
    }
   ],
   "source": [
    "import numpy as np\n",
    "\n",
    "matrix_a = np.random.randn(4,4)\n",
    "matrix_b = np.random.randn(4,4)\n",
    "\n",
    "# matrix_a : minima on axis-0\n",
    "print(np.min(matrix_a, axis=0))\n",
    "\n",
    "# matrix_b : minima on axis-1 with same dimensionality\n",
    "print(np.min(matrix_b, axis=1, keepdims=True))\n",
    "\n",
    "# Use np.minimum!!\n",
    "print(np.minimum(matrix_a, matrix_b))"
   ]
  },
  {
   "attachments": {},
   "cell_type": "markdown",
   "metadata": {},
   "source": [
    "# 2 Operations\n",
    "\n",
    "- inner product vs matrix product\n",
    "\n",
    "- transpose\n",
    "\n",
    "- sum\n",
    "\n",
    "- broadcasting\n",
    "\n",
    "- norm\n",
    "\n",
    "- SVD"
   ]
  },
  {
   "attachments": {},
   "cell_type": "markdown",
   "metadata": {},
   "source": [
    "### 2.1 inner product (내적)"
   ]
  },
  {
   "cell_type": "code",
   "execution_count": 55,
   "metadata": {},
   "outputs": [
    {
     "name": "stdout",
     "output_type": "stream",
     "text": [
      "219\n",
      "219\n",
      "()\n",
      "[29 67]\n",
      "[29 67]\n",
      "(2,)\n",
      "[[19 22]\n",
      " [43 50]]\n",
      "[[19 22]\n",
      " [43 50]]\n",
      "(2, 2)\n"
     ]
    }
   ],
   "source": [
    "import numpy as np\n",
    "\n",
    "x = np.array([[1,2],[3,4]])\n",
    "y = np.array([[5,6],[7,8]])\n",
    "\n",
    "v = np.array([9,10])\n",
    "w = np.array([11,12])\n",
    "\n",
    "print(v.dot(w)) # v @ w\n",
    "print(np.dot(v,w))\n",
    "print(v.dot(w).shape) # (1,2)(2,1) = (1,1)\n",
    "\n",
    "print(x.dot(v)) # x @ v \n",
    "print(np.dot(x,v))\n",
    "print(x.dot(v).shape) # (2,2)(2,1) = (2,1)\n",
    "\n",
    "print(x.dot(y))\n",
    "print(np.dot(x,y))\n",
    "print(x.dot(y).shape)"
   ]
  },
  {
   "attachments": {},
   "cell_type": "markdown",
   "metadata": {},
   "source": [
    "### 2.2 Transpose"
   ]
  },
  {
   "cell_type": "code",
   "execution_count": 58,
   "metadata": {},
   "outputs": [
    {
     "name": "stdout",
     "output_type": "stream",
     "text": [
      "[[1 2]\n",
      " [3 4]]\n",
      "[[1 3]\n",
      " [2 4]]\n",
      "(2, 2)\n",
      "-----------\n",
      "[1 2 3]\n",
      "[1 2 3]\n",
      "(3,)\n"
     ]
    }
   ],
   "source": [
    "import numpy as np\n",
    "\n",
    "x = np.array([[1,2],[3,4]])\n",
    "print(x)\n",
    "\n",
    "print(x.T)\n",
    "\n",
    "print(x.T.shape)\n",
    "\n",
    "print(\"-----------\")\n",
    "# no effect to rank 1 array\n",
    "v = np.array([1,2,3])\n",
    "print(v)\n",
    "print(v.T)\n",
    "print(v.T.shape)"
   ]
  },
  {
   "attachments": {
    "image.png": {
     "image/png": "[encoded data removed]"
    }
   },
   "cell_type": "markdown",
   "metadata": {},
   "source": [
    "### 2.3 sum\n",
    "\n",
    "![image.png](attachment:image.png)"
   ]
  },
  {
   "cell_type": "code",
   "execution_count": 61,
   "metadata": {},
   "outputs": [
    {
     "name": "stdout",
     "output_type": "stream",
     "text": [
      "12\n",
      "[2 4 6]\n",
      "[6 6]\n"
     ]
    }
   ],
   "source": [
    "import numpy as np \n",
    "\n",
    "x = np.array([[1,2,3],[1,2,3]])\n",
    "\n",
    "print(np.sum(x)) # sum of all elements\n",
    "print(np.sum(x, axis=0))\n",
    "print(np.sum(x, axis=1))"
   ]
  },
  {
   "attachments": {},
   "cell_type": "markdown",
   "metadata": {},
   "source": [
    "### 2.4 Broadcasting\n",
    "\n",
    "1-dimensional vector에 대해서만 broadcasting 가능\n"
   ]
  },
  {
   "cell_type": "code",
   "execution_count": 64,
   "metadata": {},
   "outputs": [
    {
     "name": "stdout",
     "output_type": "stream",
     "text": [
      "[[ 2  2  4]\n",
      " [ 5  5  7]\n",
      " [ 8  8 10]\n",
      " [11 11 13]]\n",
      "[[ 2  2  4]\n",
      " [ 5  5  7]\n",
      " [ 8  8 10]\n",
      " [11 11 13]]\n",
      "[[ True  True  True]\n",
      " [ True  True  True]\n",
      " [ True  True  True]\n",
      " [ True  True  True]]\n"
     ]
    }
   ],
   "source": [
    "import numpy as np\n",
    "\n",
    "x = np.array([[1,2,3],\n",
    "              [4,5,6],\n",
    "              [7,8,9],\n",
    "              [10,11,12]])\n",
    "v_broadcast = np.array([1,0,1])\n",
    "v = np.array([[1,0,1],[1,0,1],[1,0,1],[1,0,1]])\n",
    "y_broadcast = x + v_broadcast # element-wise\n",
    "y = x + v\n",
    "\n",
    "print(y_broadcast)\n",
    "print(y)\n",
    "print(y==y_broadcast)"
   ]
  },
  {
   "attachments": {},
   "cell_type": "markdown",
   "metadata": {},
   "source": [
    "### 2.4.1 Mini problem about Broadcasting\n",
    "\n",
    "there are the conditions for using this 'broadcasting' and this problem would give you the insight of it.\n",
    "\n",
    "could you explain why the below broadcasting operation has the error?"
   ]
  },
  {
   "cell_type": "code",
   "execution_count": 68,
   "metadata": {},
   "outputs": [
    {
     "name": "stdout",
     "output_type": "stream",
     "text": [
      "오류가 발생하였습니다.\n",
      "operands could not be broadcast together with shapes (3,2,5) (3,5) \n"
     ]
    }
   ],
   "source": [
    "import numpy as np\n",
    "\n",
    "a = np.arange(30).reshape(3,2,5)\n",
    "b = np.arange(15).reshape(  3,5)\n",
    "try:\n",
    "    print(a*b)\n",
    "except ValueError as e:\n",
    "    print(\"오류가 발생하였습니다.\")\n",
    "    print(e)\n",
    "# To make broadcasting available, at least one of the vectors should be one - dimensional.\n",
    "# Broadcasting with 2 matrices of 2 or higher dimensions is not available."
   ]
  },
  {
   "attachments": {},
   "cell_type": "markdown",
   "metadata": {},
   "source": [
    "### 2.5 norm"
   ]
  },
  {
   "attachments": {},
   "cell_type": "markdown",
   "metadata": {},
   "source": [
    "f : Vector Space -> Z(-)"
   ]
  },
  {
   "attachments": {},
   "cell_type": "markdown",
   "metadata": {},
   "source": [
    "- L1 norm : absolute value of distance\n",
    "\n",
    "- L2 norm : Euclidean norm"
   ]
  },
  {
   "cell_type": "code",
   "execution_count": 85,
   "metadata": {},
   "outputs": [
    {
     "name": "stdout",
     "output_type": "stream",
     "text": [
      "[-4 -3 -2 -1  0  1  2  3  4]\n",
      "(9,)\n",
      "[[-4 -3 -2]\n",
      " [-1  0  1]\n",
      " [ 2  3  4]]\n",
      "(3, 3)\n",
      "20.0\n",
      "[7. 6. 7.]\n",
      "[9. 2. 9.]\n",
      "[5.38516481 1.41421356 5.38516481]\n"
     ]
    }
   ],
   "source": [
    "import numpy as np\n",
    "# we can obtain them by changing the 'order' of norm \n",
    "\n",
    "a = np.arange(9) -4\n",
    "print(a)\n",
    "print(a.shape)\n",
    "b=a.reshape((3,3))\n",
    "print(b)\n",
    "print(b.shape)\n",
    "\n",
    "L1_norm = np.linalg.norm(a, axis=0, ord=1)\n",
    "print(L1_norm)\n",
    "L1_norm_axis0 = np.linalg.norm(b, axis=0, ord=1)\n",
    "print(L1_norm_axis0)\n",
    "L1_norm_axis1 = np.linalg.norm(b, axis=1, ord=1)\n",
    "print(L1_norm_axis1)\n",
    "\n",
    "L2_norm = np.linalg.norm(b, axis=1, ord=2)\n",
    "print(L2_norm)"
   ]
  },
  {
   "attachments": {
    "image.png": {
     "image/png": "[encoded data removed]"
    }
   },
   "cell_type": "markdown",
   "metadata": {},
   "source": [
    "### 2.6 SVD\n",
    "\n",
    "![image.png](attachment:image.png)"
   ]
  },
  {
   "cell_type": "code",
   "execution_count": 97,
   "metadata": {},
   "outputs": [
    {
     "name": "stdout",
     "output_type": "stream",
     "text": [
      "[[-0.0323168  -0.09630534  2.44656588 -1.21884185 -1.51272188 -0.05435369]\n",
      " [-1.16150624  0.44565304  0.225747   -2.58139377  0.03007021  0.42044018]\n",
      " [-1.53015314 -0.35114053 -0.6736695  -1.582496   -2.04612284 -0.74939589]\n",
      " [ 0.96971265  1.2010783   0.45631995 -0.72615901  0.49494634 -0.89764081]\n",
      " [ 0.27289184  1.35168317  2.55817456  0.52468385  1.99530969  0.44541567]\n",
      " [ 0.38885035 -0.26320373 -0.49365874 -2.263852   -1.89763252  2.08406728]]\n",
      "(6, 6) (6,) (6, 6)\n",
      "----------------\n",
      "(6, 6)\n",
      "[[-0.0323168  -0.09630534  2.44656588 -1.21884185 -1.51272188 -0.05435369]\n",
      " [-1.16150624  0.44565304  0.225747   -2.58139377  0.03007021  0.42044018]\n",
      " [-1.53015314 -0.35114053 -0.6736695  -1.582496   -2.04612284 -0.74939589]\n",
      " [ 0.96971265  1.2010783   0.45631995 -0.72615901  0.49494634 -0.89764081]\n",
      " [ 0.27289184  1.35168317  2.55817456  0.52468385  1.99530969  0.44541567]\n",
      " [ 0.38885035 -0.26320373 -0.49365874 -2.263852   -1.89763252  2.08406728]]\n"
     ]
    }
   ],
   "source": [
    "import numpy as np\n",
    "\n",
    "a = np.random.randn(6,6)\n",
    "print(a)\n",
    "\n",
    "# A = U * Sigma * V'\n",
    "U, S, Vt = np.linalg.svd(a,full_matrices=True)\n",
    "print(U.shape, S.shape, Vt.shape)\n",
    "\n",
    "# full_matrices = False : U(M,k) Vt(k,N)\n",
    "# full_matrices = True : U(M,M) Vt(N,N)\n",
    "\n",
    "\n",
    "print(\"----------------\")\n",
    "# Restoration of SVD\n",
    "# since numpy make the sigma, which is the EIGENVALUE MATRIX, 1-dimension, we must make it diagonal so that we could operate the original dot product\n",
    "sigma = np.diag(S)\n",
    "print(sigma.shape)\n",
    "\n",
    "# two dot product for getting \"a\"\n",
    "a_ = np.dot(np.dot(U, sigma),Vt)\n",
    "print(np.round(a_, 8))"
   ]
  },
  {
   "attachments": {},
   "cell_type": "markdown",
   "metadata": {},
   "source": [
    "주의 : 여기서 S(Sigma)는 diagonal matrix기 때문에 (6,)으로 나온거지, (6,)짜리 vector라는 것이 아님"
   ]
  },
  {
   "attachments": {},
   "cell_type": "markdown",
   "metadata": {},
   "source": [
    "# 3 Implement"
   ]
  },
  {
   "attachments": {},
   "cell_type": "markdown",
   "metadata": {},
   "source": [
    "### 3.1 determinant"
   ]
  },
  {
   "cell_type": "code",
   "execution_count": 71,
   "metadata": {},
   "outputs": [
    {
     "name": "stdout",
     "output_type": "stream",
     "text": [
      "Determinant of matrix A : 100\n",
      "Determinant of matrix B : 0\n",
      "Determinant of matrix C : -72\n"
     ]
    }
   ],
   "source": [
    "import numpy as np\n",
    "\n",
    "matrix_a = np.array([[6, 9,39,49],\n",
    "                     [5, 7,32,37],\n",
    "                     [3, 4, 4, 4],\n",
    "                     [1, 1, 1, 1]])\n",
    "matrix_b = np.array([[1, 0, 1, 1],\n",
    "                     [1,-1, 2, 0],\n",
    "                     [2,-1, 3, 1],\n",
    "                     [4,17, 0,-5]])\n",
    "matrix_c = np.array([[13, 3,-8, 6],\n",
    "                     [ 0, 0,-4, 0],\n",
    "                     [ 1, 0, 7,-2],\n",
    "                     [ 3, 0, 2, 0]])\n",
    "\n",
    "print(\"Determinant of matrix A :\", round(np.linalg.det(matrix_a)))\n",
    "print(\"Determinant of matrix B :\", round(np.linalg.det(matrix_b)))\n",
    "print(\"Determinant of matrix C :\", round(np.linalg.det(matrix_c)))"
   ]
  },
  {
   "attachments": {},
   "cell_type": "markdown",
   "metadata": {},
   "source": [
    "### 3.2 Operation"
   ]
  },
  {
   "cell_type": "code",
   "execution_count": 107,
   "metadata": {},
   "outputs": [
    {
     "name": "stdout",
     "output_type": "stream",
     "text": [
      "[[ 0 15 31  4]\n",
      " [ 1  3  6 13]\n",
      " [ 7 15 -4  1]] \n",
      "\n",
      "[[ -6   0  -8  -2]\n",
      " [ -2   6 -18  16]\n",
      " [ 10 -12  -4  -2]] \n",
      "\n",
      "[[  7  -8]\n",
      " [-18   2]] \n",
      "\n",
      "[[  7  -8]\n",
      " [-18   2]]\n"
     ]
    }
   ],
   "source": [
    "import numpy as np\n",
    "\n",
    "matrix_A = np.array([[-1, 5, 9, 1],\n",
    "                     [ 0, 2,-1, 7],\n",
    "                     [ 4, 3,-2, 0]])\n",
    "matrix_B = np.array([[ 3, 0, 4, 1],\n",
    "                     [ 1,-3, 9,-8],\n",
    "                     [-5, 6, 2, 1]])\n",
    "matrix_C = np.array([[-2, 1, 0],\n",
    "                     [ 3,-4, 5]])\n",
    "matrix_D = np.array([[1, 4],\n",
    "                     [9, 0],\n",
    "                     [3,-2]])\n",
    "#(a)\n",
    "print(3*matrix_A + matrix_B,\"\\n\")\n",
    "print(-2*matrix_B,\"\\n\")\n",
    "\n",
    "#(b)\n",
    "print(matrix_C @ matrix_D, \"\\n\")\n",
    "print(np.dot(matrix_C, matrix_D))"
   ]
  },
  {
   "attachments": {},
   "cell_type": "markdown",
   "metadata": {},
   "source": [
    "### 3.3 SVD"
   ]
  },
  {
   "cell_type": "code",
   "execution_count": 115,
   "metadata": {},
   "outputs": [
    {
     "name": "stdout",
     "output_type": "stream",
     "text": [
      "EIGENVALUES: [5. 2. 1.]\n",
      "EIGENVECTOR : \n",
      " [[-0.33333333 -0.66666667  0.66666667]\n",
      " [-0.66666667 -0.33333333 -0.66666667]\n",
      " [ 0.66666667 -0.66666667 -0.33333333]]\n"
     ]
    }
   ],
   "source": [
    "import numpy as np\n",
    "\n",
    "A = np.array([[1, 2, 0],\n",
    "              [2, 2,-2],\n",
    "              [0,-2, 3]])\n",
    "\n",
    "U, S, Vt = np.linalg.svd(A, full_matrices=True)\n",
    "\n",
    "# eigenvalues/ eigenvectors\n",
    "print(\"EIGENVALUES:\" , S)\n",
    "print(\"EIGENVECTOR :\",\"\\n\", U)\n"
   ]
  },
  {
   "attachments": {},
   "cell_type": "markdown",
   "metadata": {},
   "source": [
    "이게 맞나? 왜 난 아닌것같지?\n",
    "\n",
    "EIGEN_VECTOR, EIGEN_VALUES, Singular Vector Decomposition(SVD), Spectral Decomposition, eigenvalue decomposition : 선형대수 다시 공부해볼것"
   ]
  },
  {
   "attachments": {
    "image.png": {
     "image/png": "[encoded data removed]"
    }
   },
   "cell_type": "markdown",
   "metadata": {},
   "source": [
    "### 3.4 Regularization\n",
    "\n",
    "![image.png](attachment:image.png)"
   ]
  },
  {
   "cell_type": "code",
   "execution_count": 124,
   "metadata": {},
   "outputs": [
    {
     "name": "stdout",
     "output_type": "stream",
     "text": [
      "37.0195\n"
     ]
    }
   ],
   "source": [
    "import numpy as np\n",
    "\n",
    "#Don't use other libraries such as sklearn, torch and tensorflow etc,,,\n",
    "\n",
    "#Below is the output & weight of a ML model\n",
    "y_pred = np.array([0.1,0.05,0.6,0.0,0.05,0.1,0.0,0.1,0.0,0.0])\n",
    "y_original = np.array([0,0,1,0,0,0,0,0,0,0])\n",
    "lamda = 1 \n",
    "weight = np.array([[1,2,1,2],[-1,-3,-2,-5],[4,3,1,2],[0,1,0,9]])\n",
    "\n",
    "\n",
    "#Write down your code of MSE\n",
    "#Hint: Consider the size of weight and Compare with the original formula(m_i element)\n",
    "def mse(y_pred, y_original, lamda, weight):\n",
    "    mse = np.sum(np.square(y_pred - y_original),axis=0)/len(y_pred) + lamda * np.sum(np.linalg.norm(weight,axis=0,ord=1))\n",
    "    return mse\n",
    "print(mse(y_pred, y_original, lamda, weight))\n",
    "#if you get the right answer, you have to obtain 37.0195"
   ]
  }
 ],
 "metadata": {
  "kernelspec": {
   "display_name": "Python 3",
   "language": "python",
   "name": "python3"
  },
  "language_info": {
   "codemirror_mode": {
    "name": "ipython",
    "version": 3
   },
   "file_extension": ".py",
   "mimetype": "text/x-python",
   "name": "python",
   "nbconvert_exporter": "python",
   "pygments_lexer": "ipython3",
   "version": "3.10.11"
  },
  "orig_nbformat": 4
 },
 "nbformat": 4,
 "nbformat_minor": 2
}
